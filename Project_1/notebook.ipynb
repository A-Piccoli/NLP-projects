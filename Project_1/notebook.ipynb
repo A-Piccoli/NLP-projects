{
 "cells": [
  {
   "cell_type": "code",
   "execution_count": 82,
   "metadata": {},
   "outputs": [],
   "source": [
    "import pandas as pd\n",
    "import numpy as np\n",
    "\n",
    "import neattext as nt\n",
    "import neattext.functions as nfx\n",
    "import plotly.express as px"
   ]
  },
  {
   "cell_type": "code",
   "execution_count": 83,
   "metadata": {},
   "outputs": [
    {
     "data": {
      "text/html": [
       "<div>\n",
       "<style scoped>\n",
       "    .dataframe tbody tr th:only-of-type {\n",
       "        vertical-align: middle;\n",
       "    }\n",
       "\n",
       "    .dataframe tbody tr th {\n",
       "        vertical-align: top;\n",
       "    }\n",
       "\n",
       "    .dataframe thead th {\n",
       "        text-align: right;\n",
       "    }\n",
       "</style>\n",
       "<table border=\"1\" class=\"dataframe\">\n",
       "  <thead>\n",
       "    <tr style=\"text-align: right;\">\n",
       "      <th></th>\n",
       "      <th>count</th>\n",
       "      <th>hate_speech</th>\n",
       "      <th>offensive_language</th>\n",
       "      <th>neither</th>\n",
       "      <th>class</th>\n",
       "      <th>tweet</th>\n",
       "    </tr>\n",
       "  </thead>\n",
       "  <tbody>\n",
       "    <tr>\n",
       "      <th>0</th>\n",
       "      <td>3</td>\n",
       "      <td>0</td>\n",
       "      <td>0</td>\n",
       "      <td>3</td>\n",
       "      <td>2</td>\n",
       "      <td>!!! RT @mayasolovely: As a woman you shouldn't...</td>\n",
       "    </tr>\n",
       "    <tr>\n",
       "      <th>1</th>\n",
       "      <td>3</td>\n",
       "      <td>0</td>\n",
       "      <td>3</td>\n",
       "      <td>0</td>\n",
       "      <td>1</td>\n",
       "      <td>!!!!! RT @mleew17: boy dats cold...tyga dwn ba...</td>\n",
       "    </tr>\n",
       "    <tr>\n",
       "      <th>2</th>\n",
       "      <td>3</td>\n",
       "      <td>0</td>\n",
       "      <td>3</td>\n",
       "      <td>0</td>\n",
       "      <td>1</td>\n",
       "      <td>!!!!!!! RT @UrKindOfBrand Dawg!!!! RT @80sbaby...</td>\n",
       "    </tr>\n",
       "    <tr>\n",
       "      <th>3</th>\n",
       "      <td>3</td>\n",
       "      <td>0</td>\n",
       "      <td>2</td>\n",
       "      <td>1</td>\n",
       "      <td>1</td>\n",
       "      <td>!!!!!!!!! RT @C_G_Anderson: @viva_based she lo...</td>\n",
       "    </tr>\n",
       "    <tr>\n",
       "      <th>4</th>\n",
       "      <td>6</td>\n",
       "      <td>0</td>\n",
       "      <td>6</td>\n",
       "      <td>0</td>\n",
       "      <td>1</td>\n",
       "      <td>!!!!!!!!!!!!! RT @ShenikaRoberts: The shit you...</td>\n",
       "    </tr>\n",
       "  </tbody>\n",
       "</table>\n",
       "</div>"
      ],
      "text/plain": [
       "   count  hate_speech  offensive_language  neither class   \n",
       "0      3            0                   0        3     2  \\\n",
       "1      3            0                   3        0     1   \n",
       "2      3            0                   3        0     1   \n",
       "3      3            0                   2        1     1   \n",
       "4      6            0                   6        0     1   \n",
       "\n",
       "                                               tweet  \n",
       "0  !!! RT @mayasolovely: As a woman you shouldn't...  \n",
       "1  !!!!! RT @mleew17: boy dats cold...tyga dwn ba...  \n",
       "2  !!!!!!! RT @UrKindOfBrand Dawg!!!! RT @80sbaby...  \n",
       "3  !!!!!!!!! RT @C_G_Anderson: @viva_based she lo...  \n",
       "4  !!!!!!!!!!!!! RT @ShenikaRoberts: The shit you...  "
      ]
     },
     "execution_count": 83,
     "metadata": {},
     "output_type": "execute_result"
    }
   ],
   "source": [
    "df = pd.read_pickle('./labeled_data.p')\n",
    "\n",
    "df.head()"
   ]
  },
  {
   "cell_type": "code",
   "execution_count": 84,
   "metadata": {},
   "outputs": [
    {
     "data": {
      "text/plain": [
       "Index(['count', 'hate_speech', 'offensive_language', 'neither', 'class',\n",
       "       'tweet'],\n",
       "      dtype='object')"
      ]
     },
     "execution_count": 84,
     "metadata": {},
     "output_type": "execute_result"
    }
   ],
   "source": [
    "df.columns"
   ]
  },
  {
   "cell_type": "code",
   "execution_count": 85,
   "metadata": {},
   "outputs": [
    {
     "data": {
      "text/html": [
       "<div>\n",
       "<style scoped>\n",
       "    .dataframe tbody tr th:only-of-type {\n",
       "        vertical-align: middle;\n",
       "    }\n",
       "\n",
       "    .dataframe tbody tr th {\n",
       "        vertical-align: top;\n",
       "    }\n",
       "\n",
       "    .dataframe thead th {\n",
       "        text-align: right;\n",
       "    }\n",
       "</style>\n",
       "<table border=\"1\" class=\"dataframe\">\n",
       "  <thead>\n",
       "    <tr style=\"text-align: right;\">\n",
       "      <th></th>\n",
       "      <th>tweet</th>\n",
       "      <th>class</th>\n",
       "    </tr>\n",
       "  </thead>\n",
       "  <tbody>\n",
       "    <tr>\n",
       "      <th>0</th>\n",
       "      <td>!!! RT @mayasolovely: As a woman you shouldn't...</td>\n",
       "      <td>2</td>\n",
       "    </tr>\n",
       "    <tr>\n",
       "      <th>1</th>\n",
       "      <td>!!!!! RT @mleew17: boy dats cold...tyga dwn ba...</td>\n",
       "      <td>1</td>\n",
       "    </tr>\n",
       "    <tr>\n",
       "      <th>2</th>\n",
       "      <td>!!!!!!! RT @UrKindOfBrand Dawg!!!! RT @80sbaby...</td>\n",
       "      <td>1</td>\n",
       "    </tr>\n",
       "    <tr>\n",
       "      <th>3</th>\n",
       "      <td>!!!!!!!!! RT @C_G_Anderson: @viva_based she lo...</td>\n",
       "      <td>1</td>\n",
       "    </tr>\n",
       "    <tr>\n",
       "      <th>4</th>\n",
       "      <td>!!!!!!!!!!!!! RT @ShenikaRoberts: The shit you...</td>\n",
       "      <td>1</td>\n",
       "    </tr>\n",
       "    <tr>\n",
       "      <th>...</th>\n",
       "      <td>...</td>\n",
       "      <td>...</td>\n",
       "    </tr>\n",
       "    <tr>\n",
       "      <th>25291</th>\n",
       "      <td>you's a muthaf***in lie &amp;#8220;@LifeAsKing: @2...</td>\n",
       "      <td>1</td>\n",
       "    </tr>\n",
       "    <tr>\n",
       "      <th>25292</th>\n",
       "      <td>you've gone and broke the wrong heart baby, an...</td>\n",
       "      <td>2</td>\n",
       "    </tr>\n",
       "    <tr>\n",
       "      <th>25294</th>\n",
       "      <td>young buck wanna eat!!.. dat nigguh like I ain...</td>\n",
       "      <td>1</td>\n",
       "    </tr>\n",
       "    <tr>\n",
       "      <th>25295</th>\n",
       "      <td>youu got wild bitches tellin you lies</td>\n",
       "      <td>1</td>\n",
       "    </tr>\n",
       "    <tr>\n",
       "      <th>25296</th>\n",
       "      <td>~~Ruffled | Ntac Eileen Dahlia - Beautiful col...</td>\n",
       "      <td>2</td>\n",
       "    </tr>\n",
       "  </tbody>\n",
       "</table>\n",
       "<p>24783 rows × 2 columns</p>\n",
       "</div>"
      ],
      "text/plain": [
       "                                                   tweet class\n",
       "0      !!! RT @mayasolovely: As a woman you shouldn't...     2\n",
       "1      !!!!! RT @mleew17: boy dats cold...tyga dwn ba...     1\n",
       "2      !!!!!!! RT @UrKindOfBrand Dawg!!!! RT @80sbaby...     1\n",
       "3      !!!!!!!!! RT @C_G_Anderson: @viva_based she lo...     1\n",
       "4      !!!!!!!!!!!!! RT @ShenikaRoberts: The shit you...     1\n",
       "...                                                  ...   ...\n",
       "25291  you's a muthaf***in lie &#8220;@LifeAsKing: @2...     1\n",
       "25292  you've gone and broke the wrong heart baby, an...     2\n",
       "25294  young buck wanna eat!!.. dat nigguh like I ain...     1\n",
       "25295              youu got wild bitches tellin you lies     1\n",
       "25296  ~~Ruffled | Ntac Eileen Dahlia - Beautiful col...     2\n",
       "\n",
       "[24783 rows x 2 columns]"
      ]
     },
     "execution_count": 85,
     "metadata": {},
     "output_type": "execute_result"
    }
   ],
   "source": [
    "df = df[['tweet',\"class\"]]\n",
    "\n",
    "df"
   ]
  },
  {
   "cell_type": "code",
   "execution_count": 86,
   "metadata": {},
   "outputs": [],
   "source": [
    "s = df.iloc[4][\"tweet\"]"
   ]
  },
  {
   "cell_type": "code",
   "execution_count": 87,
   "metadata": {},
   "outputs": [],
   "source": [
    "docx = nt.TextFrame(s)"
   ]
  },
  {
   "cell_type": "code",
   "execution_count": 88,
   "metadata": {},
   "outputs": [
    {
     "name": "stdout",
     "output_type": "stream",
     "text": [
      "Key      Value          \n",
      "Length  : 137            \n",
      "vowels  : 33             \n",
      "consonants: 56             \n",
      "stopwords: 15             \n",
      "punctuations: 17             \n",
      "special_char: 18             \n",
      "tokens(whitespace): 26             \n",
      "tokens(words): 27             \n"
     ]
    }
   ],
   "source": [
    "docx.describe()"
   ]
  },
  {
   "cell_type": "code",
   "execution_count": 89,
   "metadata": {},
   "outputs": [
    {
     "data": {
      "text/plain": [
       "'!!!!!!!!!!'"
      ]
     },
     "execution_count": 89,
     "metadata": {},
     "output_type": "execute_result"
    }
   ],
   "source": [
    "docx.head(10)"
   ]
  },
  {
   "cell_type": "code",
   "execution_count": 90,
   "metadata": {},
   "outputs": [
    {
     "data": {
      "text/plain": [
       "'!!!!!!!!!!!!! RT @ShenikaRoberts: The shit you hear about me might be true or it might be faker than the bitch who told it to ya &#57361;'"
      ]
     },
     "execution_count": 90,
     "metadata": {},
     "output_type": "execute_result"
    }
   ],
   "source": [
    "s"
   ]
  },
  {
   "cell_type": "code",
   "execution_count": 91,
   "metadata": {},
   "outputs": [
    {
     "data": {
      "text/plain": [
       "'!!!!!!!!!!!!! RT @ShenikaRoberts: shit hear true faker bitch told ya &#57361;'"
      ]
     },
     "execution_count": 91,
     "metadata": {},
     "output_type": "execute_result"
    }
   ],
   "source": [
    "docx.remove_stopwords(s).text"
   ]
  },
  {
   "cell_type": "code",
   "execution_count": 92,
   "metadata": {},
   "outputs": [
    {
     "data": {
      "text/plain": [
       "' RT ShenikaRoberts shit hear true faker bitch told ya 57361'"
      ]
     },
     "execution_count": 92,
     "metadata": {},
     "output_type": "execute_result"
    }
   ],
   "source": [
    "docx.remove_puncts(most_common=False).text"
   ]
  },
  {
   "cell_type": "code",
   "execution_count": 93,
   "metadata": {},
   "outputs": [
    {
     "data": {
      "text/plain": [
       "0        18.571429\n",
       "1        17.647059\n",
       "2        20.000000\n",
       "3        27.419355\n",
       "4        23.357664\n",
       "           ...    \n",
       "25291    16.438356\n",
       "25292    10.000000\n",
       "25294    10.447761\n",
       "25295     2.702703\n",
       "25296    11.811024\n",
       "Name: tweet, Length: 24783, dtype: float64"
      ]
     },
     "execution_count": 93,
     "metadata": {},
     "output_type": "execute_result"
    }
   ],
   "source": [
    "df[\"tweet\"].apply(lambda x: nt.TextFrame(x).noise_scan()[\"text_noise\"])"
   ]
  },
  {
   "cell_type": "code",
   "execution_count": 94,
   "metadata": {},
   "outputs": [],
   "source": [
    "df[\"userhandles\"] = df[\"tweet\"].apply(nfx.extract_userhandles)"
   ]
  },
  {
   "cell_type": "code",
   "execution_count": 95,
   "metadata": {},
   "outputs": [],
   "source": [
    "df[\"clean_tweet\"] = df[\"tweet\"].apply(nfx.remove_userhandles)"
   ]
  },
  {
   "cell_type": "code",
   "execution_count": 96,
   "metadata": {},
   "outputs": [
    {
     "data": {
      "text/html": [
       "<div>\n",
       "<style scoped>\n",
       "    .dataframe tbody tr th:only-of-type {\n",
       "        vertical-align: middle;\n",
       "    }\n",
       "\n",
       "    .dataframe tbody tr th {\n",
       "        vertical-align: top;\n",
       "    }\n",
       "\n",
       "    .dataframe thead th {\n",
       "        text-align: right;\n",
       "    }\n",
       "</style>\n",
       "<table border=\"1\" class=\"dataframe\">\n",
       "  <thead>\n",
       "    <tr style=\"text-align: right;\">\n",
       "      <th></th>\n",
       "      <th>tweet</th>\n",
       "      <th>class</th>\n",
       "      <th>userhandles</th>\n",
       "      <th>clean_tweet</th>\n",
       "    </tr>\n",
       "  </thead>\n",
       "  <tbody>\n",
       "    <tr>\n",
       "      <th>0</th>\n",
       "      <td>!!! RT @mayasolovely: As a woman you shouldn't...</td>\n",
       "      <td>2</td>\n",
       "      <td>[@mayasolovely:]</td>\n",
       "      <td>!!! RT   As a woman you shouldn't complain abo...</td>\n",
       "    </tr>\n",
       "    <tr>\n",
       "      <th>1</th>\n",
       "      <td>!!!!! RT @mleew17: boy dats cold...tyga dwn ba...</td>\n",
       "      <td>1</td>\n",
       "      <td>[@mleew17:]</td>\n",
       "      <td>!!!!! RT   boy dats cold...tyga dwn bad for cu...</td>\n",
       "    </tr>\n",
       "    <tr>\n",
       "      <th>2</th>\n",
       "      <td>!!!!!!! RT @UrKindOfBrand Dawg!!!! RT @80sbaby...</td>\n",
       "      <td>1</td>\n",
       "      <td>[@UrKindOfBrand, @80sbaby4life:]</td>\n",
       "      <td>!!!!!!! RT   Dawg!!!! RT   You ever fuck a bit...</td>\n",
       "    </tr>\n",
       "    <tr>\n",
       "      <th>3</th>\n",
       "      <td>!!!!!!!!! RT @C_G_Anderson: @viva_based she lo...</td>\n",
       "      <td>1</td>\n",
       "      <td>[@C_G_Anderson:, @viva_based]</td>\n",
       "      <td>!!!!!!!!! RT     she look like a tranny</td>\n",
       "    </tr>\n",
       "    <tr>\n",
       "      <th>4</th>\n",
       "      <td>!!!!!!!!!!!!! RT @ShenikaRoberts: The shit you...</td>\n",
       "      <td>1</td>\n",
       "      <td>[@ShenikaRoberts:]</td>\n",
       "      <td>!!!!!!!!!!!!! RT   The shit you hear about me ...</td>\n",
       "    </tr>\n",
       "  </tbody>\n",
       "</table>\n",
       "</div>"
      ],
      "text/plain": [
       "                                               tweet class   \n",
       "0  !!! RT @mayasolovely: As a woman you shouldn't...     2  \\\n",
       "1  !!!!! RT @mleew17: boy dats cold...tyga dwn ba...     1   \n",
       "2  !!!!!!! RT @UrKindOfBrand Dawg!!!! RT @80sbaby...     1   \n",
       "3  !!!!!!!!! RT @C_G_Anderson: @viva_based she lo...     1   \n",
       "4  !!!!!!!!!!!!! RT @ShenikaRoberts: The shit you...     1   \n",
       "\n",
       "                        userhandles   \n",
       "0                  [@mayasolovely:]  \\\n",
       "1                       [@mleew17:]   \n",
       "2  [@UrKindOfBrand, @80sbaby4life:]   \n",
       "3     [@C_G_Anderson:, @viva_based]   \n",
       "4                [@ShenikaRoberts:]   \n",
       "\n",
       "                                         clean_tweet  \n",
       "0  !!! RT   As a woman you shouldn't complain abo...  \n",
       "1  !!!!! RT   boy dats cold...tyga dwn bad for cu...  \n",
       "2  !!!!!!! RT   Dawg!!!! RT   You ever fuck a bit...  \n",
       "3            !!!!!!!!! RT     she look like a tranny  \n",
       "4  !!!!!!!!!!!!! RT   The shit you hear about me ...  "
      ]
     },
     "execution_count": 96,
     "metadata": {},
     "output_type": "execute_result"
    }
   ],
   "source": [
    "df.head()"
   ]
  },
  {
   "cell_type": "code",
   "execution_count": 97,
   "metadata": {},
   "outputs": [
    {
     "data": {
      "text/plain": [
       "0                                           []\n",
       "1                                           []\n",
       "2                                           []\n",
       "3                                           []\n",
       "4                                    [#57361;]\n",
       "                         ...                  \n",
       "25291    [#8220;@LifeAsKing:, #8230;., #8221;]\n",
       "25292                                       []\n",
       "25294                                       []\n",
       "25295                                       []\n",
       "25296                                       []\n",
       "Name: tweet, Length: 24783, dtype: object"
      ]
     },
     "execution_count": 97,
     "metadata": {},
     "output_type": "execute_result"
    }
   ],
   "source": [
    "df[\"tweet\"].apply(nfx.extract_hashtags)"
   ]
  },
  {
   "cell_type": "code",
   "execution_count": 98,
   "metadata": {},
   "outputs": [
    {
     "data": {
      "text/plain": [
       "0        !!! RT   As a woman you shouldn't complain abo...\n",
       "1        !!!!! RT   boy dats cold...tyga dwn bad for cu...\n",
       "2        !!!!!!! RT   Dawg!!!! RT   You ever fuck a bit...\n",
       "3                  !!!!!!!!! RT     she look like a tranny\n",
       "4        !!!!!!!!!!!!! RT   The shit you hear about me ...\n",
       "                               ...                        \n",
       "25291    you's a muthaf***in lie &       right! His TL ...\n",
       "25292    you've gone and broke the wrong heart baby, an...\n",
       "25294    young buck wanna eat!!.. dat nigguh like I ain...\n",
       "25295                youu got wild bitches tellin you lies\n",
       "25296    ~~Ruffled | Ntac Eileen Dahlia - Beautiful col...\n",
       "Name: clean_tweet, Length: 24783, dtype: object"
      ]
     },
     "execution_count": 98,
     "metadata": {},
     "output_type": "execute_result"
    }
   ],
   "source": [
    "df[\"clean_tweet\"].apply(nfx.remove_hashtags)"
   ]
  },
  {
   "cell_type": "code",
   "execution_count": 99,
   "metadata": {},
   "outputs": [
    {
     "data": {
      "text/plain": [
       "0        !!! RT   As a woman you shouldn't complain abo...\n",
       "1        !!!!! RT   boy dats cold...tyga dwn bad for cu...\n",
       "2        !!!!!!! RT   Dawg!!!! RT   You ever fuck a bit...\n",
       "3                  !!!!!!!!! RT     she look like a tranny\n",
       "4        !!!!!!!!!!!!! RT   The shit you hear about me ...\n",
       "                               ...                        \n",
       "25291    you's a muthaf***in lie        right! His TL i...\n",
       "25292    you've gone and broke the wrong heart baby, an...\n",
       "25294    young buck wanna eat!!.. dat nigguh like I ain...\n",
       "25295                youu got wild bitches tellin you lies\n",
       "25296    ~~Ruffled | Ntac Eileen Dahlia - Beautiful col...\n",
       "Name: clean_tweet, Length: 24783, dtype: object"
      ]
     },
     "execution_count": 99,
     "metadata": {},
     "output_type": "execute_result"
    }
   ],
   "source": [
    "df[\"clean_tweet\"].apply(lambda x: nfx.remove_custom_pattern(x,term_pattern = r'&#\\S+')) "
   ]
  },
  {
   "cell_type": "code",
   "execution_count": 100,
   "metadata": {},
   "outputs": [],
   "source": [
    "df[\"clean_tweet\"] = df[\"clean_tweet\"].apply(lambda x: nfx.remove_custom_pattern(x,term_pattern = r'&#\\S+'))"
   ]
  },
  {
   "cell_type": "code",
   "execution_count": 101,
   "metadata": {},
   "outputs": [],
   "source": [
    "df[\"clean_tweet\"] = df[\"clean_tweet\"].apply(lambda x: nfx.remove_custom_pattern(x,term_pattern = r'RT'))"
   ]
  },
  {
   "cell_type": "code",
   "execution_count": 102,
   "metadata": {},
   "outputs": [
    {
     "data": {
      "text/plain": [
       "0             As a woman you shouldnt complain about cl...\n",
       "1             boy dats coldtyga dwn bad for cuffin dat ...\n",
       "2             Dawg     You ever fuck a bitch and she st...\n",
       "3                                   she look like a tranny\n",
       "4             The shit you hear about me might be true ...\n",
       "                               ...                        \n",
       "25291    yous a muthafin lie        right His TL is tra...\n",
       "25292    youve gone and broke the wrong heart baby and ...\n",
       "25294    young buck wanna eat dat nigguh like I aint fu...\n",
       "25295                youu got wild bitches tellin you lies\n",
       "25296    Ruffled  Ntac Eileen Dahlia  Beautiful color c...\n",
       "Name: clean_tweet, Length: 24783, dtype: object"
      ]
     },
     "execution_count": 102,
     "metadata": {},
     "output_type": "execute_result"
    }
   ],
   "source": [
    "df[\"clean_tweet\"].apply(nfx.remove_special_characters)"
   ]
  },
  {
   "cell_type": "code",
   "execution_count": 103,
   "metadata": {},
   "outputs": [],
   "source": [
    "df[\"clean_tweet\"] = df[\"clean_tweet\"].apply(nfx.remove_special_characters)"
   ]
  },
  {
   "cell_type": "code",
   "execution_count": 104,
   "metadata": {},
   "outputs": [],
   "source": [
    "df[\"clean_tweet\"] = df[\"clean_tweet\"].apply(nfx.remove_multiple_spaces)"
   ]
  },
  {
   "cell_type": "code",
   "execution_count": 105,
   "metadata": {},
   "outputs": [
    {
     "data": {
      "text/html": [
       "<div>\n",
       "<style scoped>\n",
       "    .dataframe tbody tr th:only-of-type {\n",
       "        vertical-align: middle;\n",
       "    }\n",
       "\n",
       "    .dataframe tbody tr th {\n",
       "        vertical-align: top;\n",
       "    }\n",
       "\n",
       "    .dataframe thead th {\n",
       "        text-align: right;\n",
       "    }\n",
       "</style>\n",
       "<table border=\"1\" class=\"dataframe\">\n",
       "  <thead>\n",
       "    <tr style=\"text-align: right;\">\n",
       "      <th></th>\n",
       "      <th>tweet</th>\n",
       "      <th>class</th>\n",
       "      <th>userhandles</th>\n",
       "      <th>clean_tweet</th>\n",
       "    </tr>\n",
       "  </thead>\n",
       "  <tbody>\n",
       "    <tr>\n",
       "      <th>0</th>\n",
       "      <td>!!! RT @mayasolovely: As a woman you shouldn't...</td>\n",
       "      <td>2</td>\n",
       "      <td>[@mayasolovely:]</td>\n",
       "      <td>As a woman you shouldnt complain about cleani...</td>\n",
       "    </tr>\n",
       "    <tr>\n",
       "      <th>1</th>\n",
       "      <td>!!!!! RT @mleew17: boy dats cold...tyga dwn ba...</td>\n",
       "      <td>1</td>\n",
       "      <td>[@mleew17:]</td>\n",
       "      <td>boy dats coldtyga dwn bad for cuffin dat hoe ...</td>\n",
       "    </tr>\n",
       "    <tr>\n",
       "      <th>2</th>\n",
       "      <td>!!!!!!! RT @UrKindOfBrand Dawg!!!! RT @80sbaby...</td>\n",
       "      <td>1</td>\n",
       "      <td>[@UrKindOfBrand, @80sbaby4life:]</td>\n",
       "      <td>Dawg You ever fuck a bitch and she start to c...</td>\n",
       "    </tr>\n",
       "    <tr>\n",
       "      <th>3</th>\n",
       "      <td>!!!!!!!!! RT @C_G_Anderson: @viva_based she lo...</td>\n",
       "      <td>1</td>\n",
       "      <td>[@C_G_Anderson:, @viva_based]</td>\n",
       "      <td>she look like a tranny</td>\n",
       "    </tr>\n",
       "    <tr>\n",
       "      <th>4</th>\n",
       "      <td>!!!!!!!!!!!!! RT @ShenikaRoberts: The shit you...</td>\n",
       "      <td>1</td>\n",
       "      <td>[@ShenikaRoberts:]</td>\n",
       "      <td>The shit you hear about me might be true or i...</td>\n",
       "    </tr>\n",
       "  </tbody>\n",
       "</table>\n",
       "</div>"
      ],
      "text/plain": [
       "                                               tweet class   \n",
       "0  !!! RT @mayasolovely: As a woman you shouldn't...     2  \\\n",
       "1  !!!!! RT @mleew17: boy dats cold...tyga dwn ba...     1   \n",
       "2  !!!!!!! RT @UrKindOfBrand Dawg!!!! RT @80sbaby...     1   \n",
       "3  !!!!!!!!! RT @C_G_Anderson: @viva_based she lo...     1   \n",
       "4  !!!!!!!!!!!!! RT @ShenikaRoberts: The shit you...     1   \n",
       "\n",
       "                        userhandles   \n",
       "0                  [@mayasolovely:]  \\\n",
       "1                       [@mleew17:]   \n",
       "2  [@UrKindOfBrand, @80sbaby4life:]   \n",
       "3     [@C_G_Anderson:, @viva_based]   \n",
       "4                [@ShenikaRoberts:]   \n",
       "\n",
       "                                         clean_tweet  \n",
       "0   As a woman you shouldnt complain about cleani...  \n",
       "1   boy dats coldtyga dwn bad for cuffin dat hoe ...  \n",
       "2   Dawg You ever fuck a bitch and she start to c...  \n",
       "3                             she look like a tranny  \n",
       "4   The shit you hear about me might be true or i...  "
      ]
     },
     "execution_count": 105,
     "metadata": {},
     "output_type": "execute_result"
    }
   ],
   "source": [
    "df.head()"
   ]
  },
  {
   "cell_type": "code",
   "execution_count": 106,
   "metadata": {},
   "outputs": [
    {
     "data": {
      "text/plain": [
       "0        [a, you, about, up, your, as, a, you, should, ...\n",
       "1                                           [for, in, the]\n",
       "2                                [a, and, she, to, be, as]\n",
       "3                                                 [she, a]\n",
       "4        [you, about, me, be, or, it, be, than, the, wh...\n",
       "                               ...                        \n",
       "25291                                         [a, is, and]\n",
       "25292                                  [and, the, and, me]\n",
       "25294                                          [up, again]\n",
       "25295                                                [you]\n",
       "25296                                                 [of]\n",
       "Name: clean_tweet, Length: 24783, dtype: object"
      ]
     },
     "execution_count": 106,
     "metadata": {},
     "output_type": "execute_result"
    }
   ],
   "source": [
    "df[\"clean_tweet\"].apply(nfx.extract_stopwords)"
   ]
  },
  {
   "cell_type": "code",
   "execution_count": 107,
   "metadata": {},
   "outputs": [
    {
     "data": {
      "text/plain": [
       "0        woman shouldnt complain cleaning house amp man...\n",
       "1        boy dats coldtyga dwn bad cuffin dat hoe 1st p...\n",
       "2                  Dawg fuck bitch start cry confused shit\n",
       "3                                         look like tranny\n",
       "4                       shit hear true faker bitch told ya\n",
       "                               ...                        \n",
       "25291    yous muthafin lie right TL trash Bible scriptu...\n",
       "25292    youve gone broke wrong heart baby drove rednec...\n",
       "25294    young buck wanna eat dat nigguh like aint fuck...\n",
       "25295                    youu got wild bitches tellin lies\n",
       "25296    Ruffled Ntac Eileen Dahlia Beautiful color com...\n",
       "Name: clean_tweet, Length: 24783, dtype: object"
      ]
     },
     "execution_count": 107,
     "metadata": {},
     "output_type": "execute_result"
    }
   ],
   "source": [
    "df[\"clean_tweet\"].apply(nfx.remove_stopwords)"
   ]
  },
  {
   "cell_type": "code",
   "execution_count": 108,
   "metadata": {},
   "outputs": [
    {
     "data": {
      "text/plain": [
       "0        woman shouldnt complain cleaning house amp man...\n",
       "1        boy dats coldtyga dwn bad cuffin dat hoe 1st p...\n",
       "2                  Dawg fuck bitch start cry confused shit\n",
       "3                                         look like tranny\n",
       "4                       shit hear true faker bitch told ya\n",
       "                               ...                        \n",
       "25291    yous muthafin lie right TL trash Bible scriptu...\n",
       "25292    youve gone broke wrong heart baby drove rednec...\n",
       "25294    young buck wanna eat dat nigguh like aint fuck...\n",
       "25295                    youu got wild bitches tellin lies\n",
       "25296    Ruffled Ntac Eileen Dahlia Beautiful color com...\n",
       "Name: clean_tweet, Length: 24783, dtype: object"
      ]
     },
     "execution_count": 108,
     "metadata": {},
     "output_type": "execute_result"
    }
   ],
   "source": [
    "df[\"clean_tweet\"].apply(lambda x: nt.TextFrame(x).remove_stopwords())"
   ]
  },
  {
   "cell_type": "code",
   "execution_count": 109,
   "metadata": {},
   "outputs": [
    {
     "data": {
      "text/plain": [
       "0        woman shouldnt complain cleaning house amp man...\n",
       "1        boy dats coldtyga dwn bad cuffin dat hoe 1st p...\n",
       "2                  Dawg fuck bitch start cry confused shit\n",
       "3                                         look like tranny\n",
       "4                       shit hear true faker bitch told ya\n",
       "                               ...                        \n",
       "25291    yous muthafin lie right TL trash Bible scriptu...\n",
       "25292    youve gone broke wrong heart baby drove rednec...\n",
       "25294    young buck wanna eat dat nigguh like aint fuck...\n",
       "25295                    youu got wild bitches tellin lies\n",
       "25296    Ruffled Ntac Eileen Dahlia Beautiful color com...\n",
       "Name: clean_tweet, Length: 24783, dtype: object"
      ]
     },
     "execution_count": 109,
     "metadata": {},
     "output_type": "execute_result"
    }
   ],
   "source": [
    "df[\"clean_tweet\"].apply(lambda x: nfx.remove_stopwords(x, lang=\"en\"))"
   ]
  },
  {
   "cell_type": "code",
   "execution_count": 110,
   "metadata": {},
   "outputs": [],
   "source": [
    "df[\"clean_tweet\"] = df[\"clean_tweet\"].apply(nfx.remove_stopwords)"
   ]
  },
  {
   "cell_type": "code",
   "execution_count": 111,
   "metadata": {},
   "outputs": [
    {
     "data": {
      "text/plain": [
       "0        0\n",
       "1        0\n",
       "2        0\n",
       "3        0\n",
       "4        0\n",
       "        ..\n",
       "25291    0\n",
       "25292    0\n",
       "25294    0\n",
       "25295    0\n",
       "25296    0\n",
       "Name: clean_tweet, Length: 24783, dtype: int64"
      ]
     },
     "execution_count": 111,
     "metadata": {},
     "output_type": "execute_result"
    }
   ],
   "source": [
    "df[\"clean_tweet\"].apply(lambda x: nt.TextFrame(x).noise_scan()[\"text_noise\"])"
   ]
  },
  {
   "cell_type": "code",
   "execution_count": 112,
   "metadata": {},
   "outputs": [
    {
     "data": {
      "text/plain": [
       "'Murda Gang bitch Gang Land'"
      ]
     },
     "execution_count": 112,
     "metadata": {},
     "output_type": "execute_result"
    }
   ],
   "source": [
    "df[\"clean_tweet\"].iloc[11]"
   ]
  },
  {
   "cell_type": "code",
   "execution_count": 113,
   "metadata": {},
   "outputs": [
    {
     "data": {
      "text/html": [
       "<div>\n",
       "<style scoped>\n",
       "    .dataframe tbody tr th:only-of-type {\n",
       "        vertical-align: middle;\n",
       "    }\n",
       "\n",
       "    .dataframe tbody tr th {\n",
       "        vertical-align: top;\n",
       "    }\n",
       "\n",
       "    .dataframe thead th {\n",
       "        text-align: right;\n",
       "    }\n",
       "</style>\n",
       "<table border=\"1\" class=\"dataframe\">\n",
       "  <thead>\n",
       "    <tr style=\"text-align: right;\">\n",
       "      <th></th>\n",
       "      <th>tweet</th>\n",
       "      <th>class</th>\n",
       "      <th>userhandles</th>\n",
       "      <th>clean_tweet</th>\n",
       "    </tr>\n",
       "  </thead>\n",
       "  <tbody>\n",
       "    <tr>\n",
       "      <th>0</th>\n",
       "      <td>!!! RT @mayasolovely: As a woman you shouldn't...</td>\n",
       "      <td>2</td>\n",
       "      <td>[@mayasolovely:]</td>\n",
       "      <td>woman shouldnt complain cleaning house amp man...</td>\n",
       "    </tr>\n",
       "    <tr>\n",
       "      <th>1</th>\n",
       "      <td>!!!!! RT @mleew17: boy dats cold...tyga dwn ba...</td>\n",
       "      <td>1</td>\n",
       "      <td>[@mleew17:]</td>\n",
       "      <td>boy dats coldtyga dwn bad cuffin dat hoe 1st p...</td>\n",
       "    </tr>\n",
       "    <tr>\n",
       "      <th>2</th>\n",
       "      <td>!!!!!!! RT @UrKindOfBrand Dawg!!!! RT @80sbaby...</td>\n",
       "      <td>1</td>\n",
       "      <td>[@UrKindOfBrand, @80sbaby4life:]</td>\n",
       "      <td>Dawg fuck bitch start cry confused shit</td>\n",
       "    </tr>\n",
       "    <tr>\n",
       "      <th>3</th>\n",
       "      <td>!!!!!!!!! RT @C_G_Anderson: @viva_based she lo...</td>\n",
       "      <td>1</td>\n",
       "      <td>[@C_G_Anderson:, @viva_based]</td>\n",
       "      <td>look like tranny</td>\n",
       "    </tr>\n",
       "    <tr>\n",
       "      <th>4</th>\n",
       "      <td>!!!!!!!!!!!!! RT @ShenikaRoberts: The shit you...</td>\n",
       "      <td>1</td>\n",
       "      <td>[@ShenikaRoberts:]</td>\n",
       "      <td>shit hear true faker bitch told ya</td>\n",
       "    </tr>\n",
       "    <tr>\n",
       "      <th>...</th>\n",
       "      <td>...</td>\n",
       "      <td>...</td>\n",
       "      <td>...</td>\n",
       "      <td>...</td>\n",
       "    </tr>\n",
       "    <tr>\n",
       "      <th>25291</th>\n",
       "      <td>you's a muthaf***in lie &amp;#8220;@LifeAsKing: @2...</td>\n",
       "      <td>1</td>\n",
       "      <td>[@LifeAsKing:, @20_Pearls, @corey_emanuel]</td>\n",
       "      <td>yous muthafin lie right TL trash Bible scriptu...</td>\n",
       "    </tr>\n",
       "    <tr>\n",
       "      <th>25292</th>\n",
       "      <td>you've gone and broke the wrong heart baby, an...</td>\n",
       "      <td>2</td>\n",
       "      <td>[]</td>\n",
       "      <td>youve gone broke wrong heart baby drove rednec...</td>\n",
       "    </tr>\n",
       "    <tr>\n",
       "      <th>25294</th>\n",
       "      <td>young buck wanna eat!!.. dat nigguh like I ain...</td>\n",
       "      <td>1</td>\n",
       "      <td>[]</td>\n",
       "      <td>young buck wanna eat dat nigguh like aint fuck...</td>\n",
       "    </tr>\n",
       "    <tr>\n",
       "      <th>25295</th>\n",
       "      <td>youu got wild bitches tellin you lies</td>\n",
       "      <td>1</td>\n",
       "      <td>[]</td>\n",
       "      <td>youu got wild bitches tellin lies</td>\n",
       "    </tr>\n",
       "    <tr>\n",
       "      <th>25296</th>\n",
       "      <td>~~Ruffled | Ntac Eileen Dahlia - Beautiful col...</td>\n",
       "      <td>2</td>\n",
       "      <td>[]</td>\n",
       "      <td>Ruffled Ntac Eileen Dahlia Beautiful color com...</td>\n",
       "    </tr>\n",
       "  </tbody>\n",
       "</table>\n",
       "<p>24783 rows × 4 columns</p>\n",
       "</div>"
      ],
      "text/plain": [
       "                                                   tweet class   \n",
       "0      !!! RT @mayasolovely: As a woman you shouldn't...     2  \\\n",
       "1      !!!!! RT @mleew17: boy dats cold...tyga dwn ba...     1   \n",
       "2      !!!!!!! RT @UrKindOfBrand Dawg!!!! RT @80sbaby...     1   \n",
       "3      !!!!!!!!! RT @C_G_Anderson: @viva_based she lo...     1   \n",
       "4      !!!!!!!!!!!!! RT @ShenikaRoberts: The shit you...     1   \n",
       "...                                                  ...   ...   \n",
       "25291  you's a muthaf***in lie &#8220;@LifeAsKing: @2...     1   \n",
       "25292  you've gone and broke the wrong heart baby, an...     2   \n",
       "25294  young buck wanna eat!!.. dat nigguh like I ain...     1   \n",
       "25295              youu got wild bitches tellin you lies     1   \n",
       "25296  ~~Ruffled | Ntac Eileen Dahlia - Beautiful col...     2   \n",
       "\n",
       "                                      userhandles   \n",
       "0                                [@mayasolovely:]  \\\n",
       "1                                     [@mleew17:]   \n",
       "2                [@UrKindOfBrand, @80sbaby4life:]   \n",
       "3                   [@C_G_Anderson:, @viva_based]   \n",
       "4                              [@ShenikaRoberts:]   \n",
       "...                                           ...   \n",
       "25291  [@LifeAsKing:, @20_Pearls, @corey_emanuel]   \n",
       "25292                                          []   \n",
       "25294                                          []   \n",
       "25295                                          []   \n",
       "25296                                          []   \n",
       "\n",
       "                                             clean_tweet  \n",
       "0      woman shouldnt complain cleaning house amp man...  \n",
       "1      boy dats coldtyga dwn bad cuffin dat hoe 1st p...  \n",
       "2                Dawg fuck bitch start cry confused shit  \n",
       "3                                       look like tranny  \n",
       "4                     shit hear true faker bitch told ya  \n",
       "...                                                  ...  \n",
       "25291  yous muthafin lie right TL trash Bible scriptu...  \n",
       "25292  youve gone broke wrong heart baby drove rednec...  \n",
       "25294  young buck wanna eat dat nigguh like aint fuck...  \n",
       "25295                  youu got wild bitches tellin lies  \n",
       "25296  Ruffled Ntac Eileen Dahlia Beautiful color com...  \n",
       "\n",
       "[24783 rows x 4 columns]"
      ]
     },
     "execution_count": 113,
     "metadata": {},
     "output_type": "execute_result"
    }
   ],
   "source": [
    "df"
   ]
  },
  {
   "attachments": {},
   "cell_type": "markdown",
   "metadata": {},
   "source": [
    "### Parole più utilizzate nel dataset"
   ]
  },
  {
   "cell_type": "code",
   "execution_count": 116,
   "metadata": {},
   "outputs": [
    {
     "data": {
      "text/plain": [
       "bitch      8072\n",
       "bitches    2966\n",
       "like       2617\n",
       "hoes       2302\n",
       "pussy      2075\n",
       "hoe        1884\n",
       "Im         1679\n",
       "ass        1544\n",
       "dont       1525\n",
       "got        1211\n",
       "Name: count, dtype: int64"
      ]
     },
     "execution_count": 116,
     "metadata": {},
     "output_type": "execute_result"
    }
   ],
   "source": [
    "df.clean_tweet.str.split(expand=True).stack().value_counts().iloc[0:10]"
   ]
  },
  {
   "cell_type": "code",
   "execution_count": null,
   "metadata": {},
   "outputs": [],
   "source": []
  }
 ],
 "metadata": {
  "kernelspec": {
   "display_name": "full_env",
   "language": "python",
   "name": "python3"
  },
  "language_info": {
   "codemirror_mode": {
    "name": "ipython",
    "version": 3
   },
   "file_extension": ".py",
   "mimetype": "text/x-python",
   "name": "python",
   "nbconvert_exporter": "python",
   "pygments_lexer": "ipython3",
   "version": "3.11.2"
  },
  "orig_nbformat": 4
 },
 "nbformat": 4,
 "nbformat_minor": 2
}
